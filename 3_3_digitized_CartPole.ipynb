{
  "nbformat": 4,
  "nbformat_minor": 0,
  "metadata": {
    "kernelspec": {
      "display_name": "Python 3",
      "language": "python",
      "name": "python3"
    },
    "language_info": {
      "codemirror_mode": {
        "name": "ipython",
        "version": 3
      },
      "file_extension": ".py",
      "mimetype": "text/x-python",
      "name": "python",
      "nbconvert_exporter": "python",
      "pygments_lexer": "ipython3",
      "version": "3.6.6"
    },
    "colab": {
      "name": "3_3_digitized_CartPole.ipynb",
      "provenance": [],
      "include_colab_link": true
    }
  },
  "cells": [
    {
      "cell_type": "markdown",
      "metadata": {
        "id": "view-in-github",
        "colab_type": "text"
      },
      "source": [
        "<a href=\"https://colab.research.google.com/github/jeonniga/pytorch-dqn/blob/main/3_3_digitized_CartPole.ipynb\" target=\"_parent\"><img src=\"https://colab.research.google.com/assets/colab-badge.svg\" alt=\"Open In Colab\"/></a>"
      ]
    },
    {
      "cell_type": "markdown",
      "metadata": {
        "id": "oANpqTOfkYBC"
      },
      "source": [
        "## 3.3 다변수 연속값 상태를 이산변수로 변환하기"
      ]
    },
    {
      "cell_type": "code",
      "metadata": {
        "id": "PEjkb9yHkYBN"
      },
      "source": [
        "# 구현에 사용할 패키지 임포트\n",
        "import numpy as np\n",
        "import matplotlib.pyplot as plt\n",
        "%matplotlib inline\n",
        "import gym\n"
      ],
      "execution_count": null,
      "outputs": []
    },
    {
      "cell_type": "code",
      "metadata": {
        "id": "D4bMS9uAkYBP"
      },
      "source": [
        "# 상수 정의\n",
        "ENV = 'CartPole-v0'  # 태스크 이름\n",
        "NUM_DIZITIZED = 6  # 각 상태를 이산변수로 변환할 구간 수\n"
      ],
      "execution_count": null,
      "outputs": []
    },
    {
      "cell_type": "code",
      "metadata": {
        "id": "7h-RkmUAkYBR",
        "outputId": "ff212c7f-0990-4bb1-9f66-acaedd4b41c7"
      },
      "source": [
        "# CartPole 실행\n",
        "env = gym.make(ENV)  # 태스크 실행 환경 생성\n",
        "observation = env.reset()  # 환경 초기화\n"
      ],
      "execution_count": null,
      "outputs": [
        {
          "output_type": "stream",
          "text": [
            "\u001b[33mWARN: gym.spaces.Box autodetected dtype as <class 'numpy.float32'>. Please provide explicit dtype.\u001b[0m\n"
          ],
          "name": "stdout"
        }
      ]
    },
    {
      "cell_type": "code",
      "metadata": {
        "id": "ptw6WptrkYBT"
      },
      "source": [
        "# 이산변수 변환에 사용할 구간을 계산\n",
        "\n",
        "\n",
        "def bins(clip_min, clip_max, num):\n",
        "    '''관측된 상태(연속값)을 이산값으로 변환하는 구간을 계산'''\n",
        "    return np.linspace(clip_min, clip_max, num + 1)[1:-1]"
      ],
      "execution_count": null,
      "outputs": []
    },
    {
      "cell_type": "code",
      "metadata": {
        "id": "iZdIEnpukYBU",
        "outputId": "eaf6b38f-2c5b-451a-ab3b-d6cc73ed7d64"
      },
      "source": [
        "np.linspace(-2.4, 2.4, 6 + 1)"
      ],
      "execution_count": null,
      "outputs": [
        {
          "output_type": "execute_result",
          "data": {
            "text/plain": [
              "array([-2.4, -1.6, -0.8,  0. ,  0.8,  1.6,  2.4])"
            ]
          },
          "metadata": {
            "tags": []
          },
          "execution_count": 5
        }
      ]
    },
    {
      "cell_type": "code",
      "metadata": {
        "id": "2adEgoLWkYBU",
        "outputId": "069bb314-7edd-42ca-ce76-3840aa0a2fc8"
      },
      "source": [
        "np.linspace(-2.4, 2.4, 6 + 1)[1:-1]"
      ],
      "execution_count": null,
      "outputs": [
        {
          "output_type": "execute_result",
          "data": {
            "text/plain": [
              "array([-1.6, -0.8,  0. ,  0.8,  1.6])"
            ]
          },
          "metadata": {
            "tags": []
          },
          "execution_count": 6
        }
      ]
    },
    {
      "cell_type": "code",
      "metadata": {
        "id": "eDCFOYV2kYBW"
      },
      "source": [
        "def digitize_state(observation):\n",
        "    '''관측된 상태(observation)을 이산값으로 변환'''\n",
        "    cart_pos, cart_v, pole_angle, pole_v = observation\n",
        "    digitized = [\n",
        "        np.digitize(cart_pos, bins=bins(-2.4, 2.4, NUM_DIZITIZED)),\n",
        "        np.digitize(cart_v, bins=bins(-3.0, 3.0, NUM_DIZITIZED)),\n",
        "        np.digitize(pole_angle, bins=bins(-0.5, 0.5, NUM_DIZITIZED)),\n",
        "        np.digitize(pole_v, bins=bins(-2.0, 2.0, NUM_DIZITIZED))]\n",
        "    return sum([x * (NUM_DIZITIZED**i) for i, x in enumerate(digitized)])\n"
      ],
      "execution_count": null,
      "outputs": []
    },
    {
      "cell_type": "code",
      "metadata": {
        "id": "E0ok8uwwkYBX",
        "outputId": "2adba4b8-2686-4770-b0de-5390f007e551"
      },
      "source": [
        "digitize_state(observation)"
      ],
      "execution_count": null,
      "outputs": [
        {
          "output_type": "execute_result",
          "data": {
            "text/plain": [
              "525"
            ]
          },
          "metadata": {
            "tags": []
          },
          "execution_count": 11
        }
      ]
    },
    {
      "cell_type": "code",
      "metadata": {
        "collapsed": true,
        "id": "hugwcyvqkYBY"
      },
      "source": [
        ""
      ],
      "execution_count": null,
      "outputs": []
    }
  ]
}