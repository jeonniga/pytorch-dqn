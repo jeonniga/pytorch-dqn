{
  "nbformat": 4,
  "nbformat_minor": 0,
  "metadata": {
    "kernelspec": {
      "display_name": "Python 3",
      "language": "python",
      "name": "python3"
    },
    "language_info": {
      "codemirror_mode": {
        "name": "ipython",
        "version": 3
      },
      "file_extension": ".py",
      "mimetype": "text/x-python",
      "name": "python",
      "nbconvert_exporter": "python",
      "pygments_lexer": "ipython3",
      "version": "3.6.6"
    },
    "colab": {
      "name": "3_3_digitized_CartPole.ipynb",
      "provenance": [],
      "include_colab_link": true
    }
  },
  "cells": [
    {
      "cell_type": "markdown",
      "metadata": {
        "id": "view-in-github",
        "colab_type": "text"
      },
      "source": [
        "<a href=\"https://colab.research.google.com/github/jeonniga/pytorch-dqn/blob/main/3_3_digitized_CartPole.ipynb\" target=\"_parent\"><img src=\"https://colab.research.google.com/assets/colab-badge.svg\" alt=\"Open In Colab\"/></a>"
      ]
    },
    {
      "cell_type": "markdown",
      "metadata": {
        "id": "oANpqTOfkYBC"
      },
      "source": [
        "## 3.3 다변수 연속값 상태를 이산변수로 변환하기"
      ]
    },
    {
      "cell_type": "code",
      "metadata": {
        "id": "PEjkb9yHkYBN"
      },
      "source": [
        "# 구현에 사용할 패키지 임포트\n",
        "import numpy as np\n",
        "import matplotlib.pyplot as plt\n",
        "%matplotlib inline\n",
        "import gym\n"
      ],
      "execution_count": 1,
      "outputs": []
    },
    {
      "cell_type": "code",
      "metadata": {
        "id": "D4bMS9uAkYBP"
      },
      "source": [
        "# 상수 정의\n",
        "ENV = 'CartPole-v0'  # 태스크 이름\n",
        "NUM_DIZITIZED = 6  # 각 상태를 이산변수로 변환할 구간 수\n"
      ],
      "execution_count": 2,
      "outputs": []
    },
    {
      "cell_type": "code",
      "metadata": {
        "id": "7h-RkmUAkYBR"
      },
      "source": [
        "# CartPole 실행\n",
        "env = gym.make(ENV)  # 태스크 실행 환경 생성\n",
        "observation = env.reset()  # 환경 초기화\n"
      ],
      "execution_count": 3,
      "outputs": []
    },
    {
      "cell_type": "code",
      "metadata": {
        "id": "ptw6WptrkYBT"
      },
      "source": [
        "# 이산변수 변환에 사용할 구간을 계산\n",
        "\n",
        "\n",
        "def bins(clip_min, clip_max, num):\n",
        "    '''관측된 상태(연속값)을 이산값으로 변환하는 구간을 계산'''\n",
        "    return np.linspace(clip_min, clip_max, num + 1)[1:-1]"
      ],
      "execution_count": 4,
      "outputs": []
    },
    {
      "cell_type": "code",
      "metadata": {
        "colab": {
          "base_uri": "https://localhost:8080/"
        },
        "id": "iZdIEnpukYBU",
        "outputId": "89fa28e0-1c30-4e46-df15-fcd116498ae9"
      },
      "source": [
        "np.linspace(-2.4, 2.4, 6 + 1)"
      ],
      "execution_count": 5,
      "outputs": [
        {
          "output_type": "execute_result",
          "data": {
            "text/plain": [
              "array([-2.4, -1.6, -0.8,  0. ,  0.8,  1.6,  2.4])"
            ]
          },
          "metadata": {
            "tags": []
          },
          "execution_count": 5
        }
      ]
    },
    {
      "cell_type": "code",
      "metadata": {
        "colab": {
          "base_uri": "https://localhost:8080/"
        },
        "id": "2adEgoLWkYBU",
        "outputId": "98ed2843-7cf6-423d-8de5-a97960a49e20"
      },
      "source": [
        "np.linspace(-2.4, 2.4, 6 + 1)[1:-1]"
      ],
      "execution_count": 6,
      "outputs": [
        {
          "output_type": "execute_result",
          "data": {
            "text/plain": [
              "array([-1.6, -0.8,  0. ,  0.8,  1.6])"
            ]
          },
          "metadata": {
            "tags": []
          },
          "execution_count": 6
        }
      ]
    },
    {
      "cell_type": "code",
      "metadata": {
        "id": "eDCFOYV2kYBW"
      },
      "source": [
        "def digitize_state(observation):\n",
        "    '''관측된 상태(observation)을 이산값으로 변환'''\n",
        "    cart_pos, cart_v, pole_angle, pole_v = observation\n",
        "    digitized = [\n",
        "        np.digitize(cart_pos, bins=bins(-2.4, 2.4, NUM_DIZITIZED)),\n",
        "        np.digitize(cart_v, bins=bins(-3.0, 3.0, NUM_DIZITIZED)),\n",
        "        np.digitize(pole_angle, bins=bins(-0.5, 0.5, NUM_DIZITIZED)),\n",
        "        np.digitize(pole_v, bins=bins(-2.0, 2.0, NUM_DIZITIZED))]\n",
        "    return sum([x * (NUM_DIZITIZED**i) for i, x in enumerate(digitized)])\n"
      ],
      "execution_count": 7,
      "outputs": []
    },
    {
      "cell_type": "code",
      "metadata": {
        "colab": {
          "base_uri": "https://localhost:8080/"
        },
        "id": "E0ok8uwwkYBX",
        "outputId": "ee1fd126-d137-457a-cb38-b4c29dd6ce5e"
      },
      "source": [
        "digitize_state(observation)"
      ],
      "execution_count": 8,
      "outputs": [
        {
          "output_type": "execute_result",
          "data": {
            "text/plain": [
              "518"
            ]
          },
          "metadata": {
            "tags": []
          },
          "execution_count": 8
        }
      ]
    },
    {
      "cell_type": "code",
      "metadata": {
        "collapsed": true,
        "id": "hugwcyvqkYBY"
      },
      "source": [
        ""
      ],
      "execution_count": null,
      "outputs": []
    }
  ]
}